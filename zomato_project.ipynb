{
 "cells": [
  {
   "cell_type": "markdown",
   "id": "b54d3311",
   "metadata": {},
   "source": [
    "# Step 1 : Importing Libraries. "
   ]
  },
  {
   "cell_type": "raw",
   "id": "293477e0",
   "metadata": {},
   "source": [
    "pandas is used for data manipulation and data analysis.\n",
    "numpy is used for numerical operations.\n",
    "matplotlib.pyplot and seaborn is used for data visualization."
   ]
  },
  {
   "cell_type": "code",
   "execution_count": null,
   "id": "5634d1f0",
   "metadata": {},
   "outputs": [],
   "source": [
    "import pandas as pd\n",
    "import numpy as np\n",
    "import matplotlib.pyplot as plt \n",
    "import seaborn as sns"
   ]
  },
  {
   "cell_type": "markdown",
   "id": "2ea027dd",
   "metadata": {},
   "source": [
    "# Step : Create the DataFrame."
   ]
  },
  {
   "cell_type": "code",
   "execution_count": null,
   "id": "9923f886",
   "metadata": {},
   "outputs": [],
   "source": [
    "df=pd.read_csv(\"dataset/zomato_data.csv\")\n",
    "df"
   ]
  },
  {
   "cell_type": "code",
   "execution_count": null,
   "id": "1228b527",
   "metadata": {},
   "outputs": [],
   "source": [
    "df.shape"
   ]
  },
  {
   "cell_type": "code",
   "execution_count": null,
   "id": "ed1ea879",
   "metadata": {},
   "outputs": [],
   "source": [
    "df.shape[0]"
   ]
  },
  {
   "cell_type": "code",
   "execution_count": null,
   "id": "cb89b54d",
   "metadata": {},
   "outputs": [],
   "source": [
    "df.head(1)"
   ]
  },
  {
   "cell_type": "code",
   "execution_count": null,
   "id": "871054fa",
   "metadata": {},
   "outputs": [],
   "source": [
    "df.info()"
   ]
  },
  {
   "cell_type": "code",
   "execution_count": null,
   "id": "2c7ab8cf",
   "metadata": {},
   "outputs": [],
   "source": [
    "df.isnull().sum()"
   ]
  },
  {
   "cell_type": "code",
   "execution_count": null,
   "id": "11fc48e0",
   "metadata": {},
   "outputs": [],
   "source": [
    "# checking what percentage data is null\n",
    "(df.isnull().sum()/df.shape[0])*100"
   ]
  },
  {
   "cell_type": "code",
   "execution_count": null,
   "id": "091c572c",
   "metadata": {},
   "outputs": [],
   "source": [
    "# if there is any null or empty value then dropna will remove all the null and empty values.\n",
    "df.dropna(inplace=True)"
   ]
  },
  {
   "cell_type": "code",
   "execution_count": null,
   "id": "4879e5a6",
   "metadata": {},
   "outputs": [],
   "source": [
    "# replace '/5' with ' '\n",
    "df[\"rate\"] = df[\"rate\"].str.replace(\"/5\",\" \")"
   ]
  },
  {
   "cell_type": "code",
   "execution_count": null,
   "id": "b77c1322",
   "metadata": {},
   "outputs": [],
   "source": [
    "# change the datatype (object-->float)\n",
    "df['rate'] = df['rate'].astype(float)"
   ]
  },
  {
   "cell_type": "code",
   "execution_count": null,
   "id": "7f754e04",
   "metadata": {},
   "outputs": [],
   "source": [
    "df"
   ]
  },
  {
   "cell_type": "markdown",
   "id": "54554bcb",
   "metadata": {},
   "source": [
    "# 1. What type of restaurant do the majority of customers order from?"
   ]
  },
  {
   "cell_type": "code",
   "execution_count": null,
   "id": "eaa6bfa1",
   "metadata": {},
   "outputs": [],
   "source": [
    "sns.countplot(x=df['listed_in(type)'])\n",
    "plt.xlabel(\"type of restaurant\")"
   ]
  },
  {
   "cell_type": "markdown",
   "id": "2d645580",
   "metadata": {},
   "source": [
    "# Conclusion : Dining restaurant has the maximum customer."
   ]
  },
  {
   "cell_type": "markdown",
   "id": "81fc69cb",
   "metadata": {},
   "source": [
    "# 2. How many votes has each type of restaurant received from customers?"
   ]
  },
  {
   "cell_type": "code",
   "execution_count": null,
   "id": "19ecece8",
   "metadata": {},
   "outputs": [],
   "source": [
    "grouped_data = df.groupby('listed_in(type)')['votes'].sum()\n",
    "result = pd.DataFrame({'votes' : grouped_data})\n",
    "plt.plot(result,color='green',marker=\"o\")\n",
    "plt.xlabel(\"type of restaurant\",color='red',size='20')\n",
    "plt.ylabel('votes',color='red',size='20')\n"
   ]
  },
  {
   "cell_type": "markdown",
   "id": "15a42d31",
   "metadata": {},
   "source": [
    "# Conclusion : Dining restaurant has the maximum vote received."
   ]
  },
  {
   "cell_type": "markdown",
   "id": "c6624263",
   "metadata": {},
   "source": [
    "# 3. What are the ratings that the majority of restaurants have received?"
   ]
  },
  {
   "cell_type": "code",
   "execution_count": null,
   "id": "c0d52f0c",
   "metadata": {},
   "outputs": [],
   "source": [
    "plt.hist(df[\"rate\"],bins = 3)\n",
    "plt.title('ratings distribution')\n",
    "plt.show()"
   ]
  },
  {
   "cell_type": "markdown",
   "id": "eab296b1",
   "metadata": {},
   "source": [
    "# Conclusion : The majority of  restaurants have received ratings from 3.25 - 4.00"
   ]
  },
  {
   "cell_type": "markdown",
   "id": "075ee2a2",
   "metadata": {},
   "source": [
    "# 4. Average order spending by couples."
   ]
  },
  {
   "cell_type": "code",
   "execution_count": null,
   "id": "764c21b2",
   "metadata": {},
   "outputs": [],
   "source": [
    "couple_data = df[\"approx_cost(for two people)\"]\n",
    "sns.countplot(x=couple_data)"
   ]
  },
  {
   "cell_type": "markdown",
   "id": "12dcefd3",
   "metadata": {},
   "source": [
    "# Conclusion : The majority of couples prefer restaurant with an approx cost of ₹300."
   ]
  },
  {
   "cell_type": "markdown",
   "id": "a15fe333",
   "metadata": {},
   "source": [
    "# 5. Which mode(online/offline) has received maximum rating?"
   ]
  },
  {
   "cell_type": "code",
   "execution_count": null,
   "id": "85bfafb2",
   "metadata": {},
   "outputs": [],
   "source": [
    "mode = {\n",
    "    'No' : 'Offline',\n",
    "    'Yes' : 'Online'\n",
    "}\n",
    "\n",
    "df['online_order'] = df['online_order'].replace(mode)\n",
    "max_rating = df.groupby('online_order')['rate'].sum()\n",
    "max_rating"
   ]
  },
  {
   "cell_type": "code",
   "execution_count": null,
   "id": "4868104b",
   "metadata": {},
   "outputs": [],
   "source": [
    "result = pd.DataFrame({'rate' : max_rating})\n",
    "result"
   ]
  },
  {
   "cell_type": "code",
   "execution_count": null,
   "id": "788fe912",
   "metadata": {},
   "outputs": [],
   "source": [
    "plt.plot(result, color = 'green',marker='o')\n",
    "plt.title('Mode which has maximum ratings.')\n",
    "plt.xlabel('Online/Offline')\n",
    "plt.ylabel('Ratings')\n",
    "plt.show()"
   ]
  },
  {
   "cell_type": "markdown",
   "id": "7dd39e23",
   "metadata": {},
   "source": [
    "# Conclusion : Offline mode has max ratings."
   ]
  },
  {
   "cell_type": "markdown",
   "id": "e0fc2148",
   "metadata": {},
   "source": [
    "# 6. Which type of restaurant received more offline orders, so that Zomato can give customers some good offers?"
   ]
  },
  {
   "cell_type": "code",
   "execution_count": null,
   "id": "2debe627",
   "metadata": {},
   "outputs": [],
   "source": [
    "grouped_data = df.groupby(['listed_in(type)','online_order'])['rate'].count()\n",
    "result = pd.DataFrame({'rate' : grouped_data}).reset_index()\n",
    "filtered_data = result[result[\"online_order\"] == 'Online']\n",
    "filtered_data"
   ]
  },
  {
   "cell_type": "code",
   "execution_count": null,
   "id": "94b38758",
   "metadata": {},
   "outputs": [],
   "source": [
    "grouped_data = df.groupby(['listed_in(type)','online_order'])['rate'].count()\n",
    "result = pd.DataFrame({'rate' : grouped_data}).reset_index()\n",
    "filtered_data = result[result[\"online_order\"] == 'Offline']\n",
    "filtered_data"
   ]
  },
  {
   "cell_type": "code",
   "execution_count": null,
   "id": "4312c5d5",
   "metadata": {},
   "outputs": [],
   "source": [
    "pivot_table = df.pivot_table(index='listed_in(type)', columns='online_order', aggfunc='size', fill_value=0)\n",
    "sns.heatmap(pivot_table, annot=True ,fmt='d' )\n",
    "plt.title(\"Heatmap\")\n",
    "plt.xlabel(\"Mode\")\n",
    "plt.ylabel('Listed In(Type)')\n",
    "plt.show()"
   ]
  },
  {
   "cell_type": "markdown",
   "id": "0c17c3ad",
   "metadata": {},
   "source": [
    "# Conclusion : "
   ]
  }
 ],
 "metadata": {
  "kernelspec": {
   "display_name": "Python 3 (ipykernel)",
   "language": "python",
   "name": "python3"
  },
  "language_info": {
   "codemirror_mode": {
    "name": "ipython",
    "version": 3
   },
   "file_extension": ".py",
   "mimetype": "text/x-python",
   "name": "python",
   "nbconvert_exporter": "python",
   "pygments_lexer": "ipython3",
   "version": "3.9.12"
  }
 },
 "nbformat": 4,
 "nbformat_minor": 5
}
